{
 "cells": [
  {
   "cell_type": "markdown",
   "id": "3623197e-bd5e-42e6-a0f0-3850af98fa99",
   "metadata": {},
   "source": [
    "1. Використовуючи датасет з файлу **Position_Salaries.csv**, побудуйте модель поліноміальної регресії"
   ]
  },
  {
   "cell_type": "code",
   "execution_count": 12,
   "id": "c44e0b9c-93cf-421c-b147-8b1a404ebe34",
   "metadata": {},
   "outputs": [
    {
     "data": {
      "image/png": "[encoded data removed]",
      "text/plain": [
       "<Figure size 640x480 with 1 Axes>"
      ]
     },
     "metadata": {},
     "output_type": "display_data"
    },
    {
     "name": "stdout",
     "output_type": "stream",
     "text": [
      "R-squared 0.9973922891706614\n"
     ]
    }
   ],
   "source": [
    "import pandas as pd\n",
    "\n",
    "# Імпортуємо датасет з файлу Position_Salaries.csv\n",
    "dataset = pd.read_csv('Position_Salaries.csv')\n",
    "\n",
    "# Розділяємо датасет на ознаки (X) та цільову змінну (y)\n",
    "X = dataset.iloc[:, 1:2].values\n",
    "y = dataset.iloc[:, 2].values\n",
    "\n",
    "# Імпортуємо клас PolynomialFeatures з бібліотеки sklearn.preprocessing,\n",
    "# щоб згенерувати поліноміальні ознаки\n",
    "from sklearn.preprocessing import PolynomialFeatures\n",
    "\n",
    "# Встановлюємо степінь поліноміальної регресії\n",
    "poly_reg = PolynomialFeatures(degree=4)\n",
    "\n",
    "# Трансформуємо ознаки X у поліноміальні ознаки\n",
    "X_poly = poly_reg.fit_transform(X)\n",
    "\n",
    "# Імпортуємо клас LinearRegression з бібліотеки sklearn.linear_model,\n",
    "# щоб побудувати модель лінійної регресії\n",
    "from sklearn.linear_model import LinearRegression\n",
    "\n",
    "# Створюємо об'єкт класу LinearRegression та навчаємо модель на даних X_poly та y\n",
    "lin_reg = LinearRegression()\n",
    "lin_reg.fit(X_poly, y)\n",
    "\n",
    "# Візуалізуємо результати за допомогою бібліотеки matplotlib.pyplot\n",
    "import matplotlib.pyplot as plt\n",
    "\n",
    "# Візуалізуємо дійсні точки даних\n",
    "plt.scatter(X, y, color='red')\n",
    "\n",
    "# Візуалізуємо поліноміальну регресію\n",
    "plt.plot(X, lin_reg.predict(poly_reg.fit_transform(X)), color='blue')\n",
    "\n",
    "# Додаємо назву графіку та мітки для осей\n",
    "plt.title('Polynomial Regression')\n",
    "plt.xlabel('Position level')\n",
    "plt.ylabel('Salary')\n",
    "\n",
    "# Відображаємо графік\n",
    "plt.show()\n",
    "\n",
    "# Відображаємо значення коефіцієнту детермінації (R-squared) за допомогою методу score моделі\n",
    "print('R-squared', lin_reg.score(X_poly, y))\n"
   ]
  },
  {
   "cell_type": "markdown",
   "id": "305a0e72-a690-4d66-868a-19fbb175db1d",
   "metadata": {},
   "source": [
    "Робим висновок, що поліноміальна регресія підходить для моделювання залежності зарплати від рівня позиції працівника в даному датасеті.\n",
    "\n",
    "Графіки візуалізують поліноміальну залежність між змінними та демонструють відповідність моделі даним.\n",
    "\n",
    "Коефіцієнт детермінації (R-squared) також підтверджує відповідність моделі даним.\n",
    "\n",
    "Значить дану модель поліноміальної регресії можна використовувати для передбачення зарплати працівника в залежності від його позиції на роботі."
   ]
  },
  {
   "cell_type": "markdown",
   "id": "49d98c1e-86f3-4c61-9a90-f089e0c08cbb",
   "metadata": {},
   "source": [
    "2. Використовуючи датасет з файлу communities.csv, виконайте нормалізацію даних"
   ]
  },
  {
   "cell_type": "code",
   "execution_count": 25,
   "id": "50fb2819-2669-4413-b0d8-474ce4084f2e",
   "metadata": {},
   "outputs": [
    {
     "name": "stdout",
     "output_type": "stream",
     "text": [
      "Linear_Regression-Оцінка для тренувальної вибірки: 0.71\n",
      "Linear_Regression-Оцінка для тестової вибірки: 0.65\n",
      "\n",
      "Lasso регресія-Оцінка для тренувальної вибірки: 0.70\n",
      "Lasso регресія-Оцінка для тестової вибірки: 0.67\n",
      "\n",
      "Ridge Regression - Точність на тренувальних даних: 0.71\n",
      "Ridge Regression - Точність на тестових даних: 0.67\n"
     ]
    }
   ],
   "source": [
    "# Імпортуємо необхідні модулі\n",
    "import pandas as pd\n",
    "import numpy as np\n",
    "from sklearn.model_selection import train_test_split\n",
    "from sklearn.linear_model import LinearRegression, Lasso, Ridge, ElasticNet\n",
    "\n",
    "# Завантажуємо набір даних та замінюємо символ '?' на 0\n",
    "df = pd.read_csv('communities.csv')\n",
    "df_communities = df.replace('?', 0)\n",
    "\n",
    "# Видаляємо стовпець 'Lakewoodcity' та перейменовуємо стовпці з '?'\n",
    "df_communities = df_communities.drop('Lakewoodcity', axis='columns')\n",
    "df_communities = df_communities.rename(columns = {\"?\":\"1.2\", \"?.1\":\"1.1\"})\n",
    "\n",
    "# Розбиваємо набір даних на масиви ознак (X) та цільової змінної (y)\n",
    "X_array = np.array(df_communities.iloc[:, :-1])\n",
    "y_array = np.array(df_communities.iloc[:, -1])\n",
    "\n",
    "# Розбиваємо набір даних на тренувальні та тестові масиви\n",
    "X_train, X_test, y_train, y_test = train_test_split(X_array, y_array, test_size=0.3, random_state=42)\n",
    "\n",
    "# Навчаємо модель лінійної регресії та оцінюємо її продуктивність на тренувальному та тестовому наборах\n",
    "lr = LinearRegression().fit(X_train, y_train)\n",
    "print(f\"Linear_Regression-Оцінка для тренувальної вибірки: {lr.score(X_train, y_train):.2f}\")\n",
    "print(f\"Linear_Regression-Оцінка для тестової вибірки: {lr.score(X_test, y_test):.2f}\")\n",
    "\n",
    "# Навчаємо модель Lasso регресії та оцінюємо її продуктивність на тренувальному та тестовому наборах\n",
    "lasso = Lasso(alpha=0.0001).fit(X_train, y_train)\n",
    "print(f\"\\nLasso регресія-Оцінка для тренувальної вибірки: {lasso.score(X_train, y_train):.2f}\")\n",
    "print(f\"Lasso регресія-Оцінка для тестової вибірки: {lasso.score(X_test, y_test):.2f}\")\n",
    "\n",
    "# Навчаємо модель Ridge регресії на тренувальних даних\n",
    "ridge = Ridge(alpha=0.6).fit(X_train, y_train)\n",
    "\n",
    "# Оцінюємо точність моделі Ridge регресії на тренувальних та тестових даних\n",
    "print(f\"\\nRidge Regression - Точність на тренувальних даних: {ridge.score(X_train, y_train):.2f}\")\n",
    "print(f\"Ridge Regression - Точність на тестових даних: {ridge.score(X_test, y_test):.2f}\")\n"
   ]
  },
  {
   "cell_type": "markdown",
   "id": "cb837c6d-3e59-490d-9256-2e754e2ab2b7",
   "metadata": {},
   "source": [
    "У цій програмі порівняно ефективність трьох різних моделей регресії: лінійної, Lasso та Ridge.\n",
    "\n",
    "Результати показали, що модель Ridge регресії показала найкращі результати на тренувальних та тестових даних.\n",
    "\n",
    "Це означає, що використання моделі Ridge може допомогти в прогнозуванні цільової змінної в даному датасеті."
   ]
  }
 ],
 "metadata": {
  "kernelspec": {
   "display_name": "Python 3 (ipykernel)",
   "language": "python",
   "name": "python3"
  },
  "language_info": {
   "codemirror_mode": {
    "name": "ipython",
    "version": 3
   },
   "file_extension": ".py",
   "mimetype": "text/x-python",
   "name": "python",
   "nbconvert_exporter": "python",
   "pygments_lexer": "ipython3",
   "version": "3.9.13"
  }
 },
 "nbformat": 4,
 "nbformat_minor": 5
}
